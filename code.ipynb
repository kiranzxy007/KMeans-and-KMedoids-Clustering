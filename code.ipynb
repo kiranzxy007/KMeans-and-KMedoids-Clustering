{
  "nbformat": 4,
  "nbformat_minor": 0,
  "metadata": {
    "colab": {
      "name": "ASSIGNMENT1.ipynb",
      "provenance": [],
      "collapsed_sections": []
    },
    "kernelspec": {
      "name": "python3",
      "display_name": "Python 3"
    },
    "language_info": {
      "name": "python"
    }
  },
  "cells": [
    {
      "cell_type": "code",
      "execution_count": 200,
      "metadata": {
        "id": "rIx3qXyW0_Ii",
        "colab": {
          "base_uri": "https://localhost:8080/"
        },
        "outputId": "43329a9f-2099-4b22-9c1a-b4a293a4ebfe"
      },
      "outputs": [
        {
          "output_type": "stream",
          "name": "stdout",
          "text": [
            "Looking in indexes: https://pypi.org/simple, https://us-python.pkg.dev/colab-wheels/public/simple/\n",
            "Requirement already satisfied: scikit-learn-extra in /usr/local/lib/python3.7/dist-packages (0.2.0)\n",
            "Requirement already satisfied: numpy>=1.13.3 in /usr/local/lib/python3.7/dist-packages (from scikit-learn-extra) (1.21.6)\n",
            "Requirement already satisfied: scipy>=0.19.1 in /usr/local/lib/python3.7/dist-packages (from scikit-learn-extra) (1.7.3)\n",
            "Requirement already satisfied: scikit-learn>=0.23.0 in /usr/local/lib/python3.7/dist-packages (from scikit-learn-extra) (1.0.2)\n",
            "Requirement already satisfied: joblib>=0.11 in /usr/local/lib/python3.7/dist-packages (from scikit-learn>=0.23.0->scikit-learn-extra) (1.1.0)\n",
            "Requirement already satisfied: threadpoolctl>=2.0.0 in /usr/local/lib/python3.7/dist-packages (from scikit-learn>=0.23.0->scikit-learn-extra) (3.1.0)\n"
          ]
        }
      ],
      "source": [
        "pip install scikit-learn-extra"
      ]
    },
    {
      "cell_type": "code",
      "source": [
        "#Imported all libraries required\n",
        "import numpy as np\n",
        "import pandas as pd\n",
        "import matplotlib.pyplot as plt\n",
        "import seaborn as sns\n",
        "from sklearn import metrics\n",
        "from sklearn.cluster import KMeans\n",
        "from sklearn.preprocessing import StandardScaler\n",
        "import scipy.cluster.hierarchy as hcluster\n",
        "from sklearn.cluster import AgglomerativeClustering\n",
        "from sklearn.decomposition import PCA\n",
        "from sklearn.preprocessing import MinMaxScaler\n",
        "from sklearn_extra.cluster import KMedoids"
      ],
      "metadata": {
        "id": "FvGIkqiyiiJ_"
      },
      "execution_count": 201,
      "outputs": []
    },
    {
      "cell_type": "code",
      "source": [
        "#Reading data from csv file into a data frame\n",
        "df_given_data=pd.read_csv('/content/Country-data.csv')"
      ],
      "metadata": {
        "id": "-SG37AckzMgv"
      },
      "execution_count": 202,
      "outputs": []
    },
    {
      "cell_type": "code",
      "source": [
        "#Checking if any NAN values present in given data \n",
        "print(\"No of NAN values in given data\")\n",
        "df_given_data.isna().sum().sum()"
      ],
      "metadata": {
        "colab": {
          "base_uri": "https://localhost:8080/"
        },
        "id": "DpqboIzOz-h9",
        "outputId": "a751d975-ca29-44a0-a47c-bbc331b2b732"
      },
      "execution_count": 203,
      "outputs": [
        {
          "output_type": "stream",
          "name": "stdout",
          "text": [
            "No of NAN values in given data\n"
          ]
        },
        {
          "output_type": "execute_result",
          "data": {
            "text/plain": [
              "0"
            ]
          },
          "metadata": {},
          "execution_count": 203
        }
      ]
    },
    {
      "cell_type": "code",
      "source": [
        "#Checking if any NAN values present in given data \n",
        "print(\"No of NULL values in given data\")\n",
        "df_given_data.isnull().sum().sum()"
      ],
      "metadata": {
        "colab": {
          "base_uri": "https://localhost:8080/"
        },
        "id": "AZkPDR-dz9ZH",
        "outputId": "5a16596b-7c74-46b8-ebb3-12caf3988b0e"
      },
      "execution_count": 204,
      "outputs": [
        {
          "output_type": "stream",
          "name": "stdout",
          "text": [
            "No of NULL values in given data\n"
          ]
        },
        {
          "output_type": "execute_result",
          "data": {
            "text/plain": [
              "0"
            ]
          },
          "metadata": {},
          "execution_count": 204
        }
      ]
    },
    {
      "cell_type": "code",
      "source": [
        "#Checking any country name repeated in country colomn\n",
        "print(\"Printing no of unique names in country coloumn and no of rows in data frame\")\n",
        "print(\"If the both the counts are same then there no duplicates name of any country present in given data\")\n",
        "print(df_given_data.country.nunique())\n",
        "print(len(df_given_data.index))\n"
      ],
      "metadata": {
        "colab": {
          "base_uri": "https://localhost:8080/"
        },
        "id": "jD-H5UosV_2W",
        "outputId": "e6165756-ecf6-4ca9-8633-6a24a420b49d"
      },
      "execution_count": 205,
      "outputs": [
        {
          "output_type": "stream",
          "name": "stdout",
          "text": [
            "Printing no of unique names in country coloumn and no of rows in data frame\n",
            "If the both the counts are same then there no duplicates name of any country present in given data\n",
            "167\n",
            "167\n"
          ]
        }
      ]
    },
    {
      "cell_type": "code",
      "source": [
        "#Droping country column to apply sclaing on data\n",
        "df_given_data_without_country=df_given_data.drop(['country'],axis=1)"
      ],
      "metadata": {
        "id": "UXr0mecyWcgu"
      },
      "execution_count": 206,
      "outputs": []
    },
    {
      "cell_type": "code",
      "source": [
        "#Scaling the given data\n",
        "scaler = MinMaxScaler()\n",
        "scaled_df=scaler.fit_transform(df_given_data_without_country)\n",
        "scaled_df=pd.DataFrame(scaled_df,columns=df_given_data_without_country.columns)"
      ],
      "metadata": {
        "id": "gaMiq5PbNmAu"
      },
      "execution_count": 207,
      "outputs": []
    },
    {
      "cell_type": "code",
      "source": [
        "#converting the 9 dimentional data to 2 dimensinal data using pca\n",
        "pca = PCA(n_components=2)\n",
        "principalComponents = pca.fit_transform(scaled_df)\n",
        "df_after_pca = pd.DataFrame(data = principalComponents , columns = ['x', 'y'])\n"
      ],
      "metadata": {
        "id": "WMcOLjudA_sb"
      },
      "execution_count": 208,
      "outputs": []
    },
    {
      "cell_type": "code",
      "source": [
        "#KMEANS CLUSTERING\n",
        "#Assume k value\n",
        "print(\"Assume k value 3\")\n",
        "kmeans_on_pca_data= KMeans(n_clusters = 3,random_state = 111)\n",
        "kmeans_on_pca_data.fit(df_after_pca)\n",
        "#print the number of points in every cluster\n",
        "print(\"Printing the no of values in each cluster using KMeans \")\n",
        "print(pd.Series(kmeans_on_pca_data.labels_).value_counts())\n",
        "\n",
        "#KMEDOIDS CLUSTERING\n",
        "kmedoids_on_pca_data= KMedoids(n_clusters = 3,random_state = 111)\n",
        "kmedoids_on_pca_data.fit(df_after_pca)\n",
        "#print the number of points in every cluster\n",
        "print(\"Printing the no of values in each cluster using KMedoids \")\n",
        "print(pd.Series(kmedoids_on_pca_data.labels_).value_counts())\n"
      ],
      "metadata": {
        "colab": {
          "base_uri": "https://localhost:8080/"
        },
        "id": "jW7b1eA7XO6g",
        "outputId": "f7a7baeb-b509-4eaf-9972-e083481f30aa"
      },
      "execution_count": 209,
      "outputs": [
        {
          "output_type": "stream",
          "name": "stdout",
          "text": [
            "Assume k value 3\n",
            "Printing the no of values in each cluster using KMeans \n",
            "2    83\n",
            "1    46\n",
            "0    38\n",
            "dtype: int64\n",
            "Printing the no of values in each cluster using KMedoids \n",
            "1    64\n",
            "0    58\n",
            "2    45\n",
            "dtype: int64\n"
          ]
        }
      ]
    },
    {
      "cell_type": "code",
      "source": [
        "#predicting cluster number for each country using kmeans\n",
        "\n",
        "preds = kmeans_on_pca_data.labels_\n",
        "pca_with_clusters=pd.DataFrame(df_after_pca)\n",
        "data_with_clusters = pd.DataFrame(df_given_data)\n",
        "pca_with_clusters['KMeans_Clusters'] = preds\n",
        "data_with_clusters['KMeans_Clusters']=preds\n",
        "\n",
        "#predicting cluster number for each country us kmedoids\n",
        "\n",
        "preds = kmedoids_on_pca_data.labels_\n",
        "data_with_clusters['KMedoids_Clusters'] = preds\n",
        "pca_with_clusters['KMedoids_Clusters']=preds"
      ],
      "metadata": {
        "id": "EmDltIPFKqJX"
      },
      "execution_count": 210,
      "outputs": []
    },
    {
      "cell_type": "code",
      "source": [
        "#Visualisation of KMeans clusters\n",
        "print('Visualisation of KMeans clusters')\n",
        "sns.scatterplot(pca_with_clusters['x'],pca_with_clusters['y'],hue='KMeans_Clusters',data=pca_with_clusters) \n",
        "plt.title(\"KMEANS CLUSTERING\", fontsize=15)\n",
        "plt.xlabel(\"PCA1\", fontsize=12)\n",
        "plt.ylabel(\"PCA2\", fontsize=12)\n",
        "plt.show()"
      ],
      "metadata": {
        "colab": {
          "base_uri": "https://localhost:8080/",
          "height": 375
        },
        "id": "fy1fNOajcXcB",
        "outputId": "5cfae3de-88bb-4c19-9589-5938dfa96baa"
      },
      "execution_count": 211,
      "outputs": [
        {
          "output_type": "stream",
          "name": "stdout",
          "text": [
            "Visualisation of KMeans clusters\n"
          ]
        },
        {
          "output_type": "stream",
          "name": "stderr",
          "text": [
            "/usr/local/lib/python3.7/dist-packages/seaborn/_decorators.py:43: FutureWarning: Pass the following variables as keyword args: x, y. From version 0.12, the only valid positional argument will be `data`, and passing other arguments without an explicit keyword will result in an error or misinterpretation.\n",
            "  FutureWarning\n"
          ]
        },
        {
          "output_type": "display_data",
          "data": {
            "text/plain": [
              "<Figure size 432x288 with 1 Axes>"
            ],
            "image/png": "[encoded data removed]"
          },
          "metadata": {
            "needs_background": "light"
          }
        }
      ]
    },
    {
      "cell_type": "code",
      "source": [
        "#Visualisation of KMedoids clusters\n",
        "print('Visualisation of KMedoids clusters')\n",
        "sns.scatterplot(pca_with_clusters['x'],pca_with_clusters['y'],hue='KMedoids_Clusters',data=pca_with_clusters) \n",
        "plt.title(\"KMEODIDS CLUSTERING\", fontsize=15)\n",
        "plt.xlabel(\"PCA1\", fontsize=12)\n",
        "plt.ylabel(\"PCA2\", fontsize=12)\n",
        "plt.show()"
      ],
      "metadata": {
        "colab": {
          "base_uri": "https://localhost:8080/",
          "height": 375
        },
        "id": "la47P0D28xGy",
        "outputId": "90b64529-2fbd-48e1-f2d8-cf7fb4180865"
      },
      "execution_count": 212,
      "outputs": [
        {
          "output_type": "stream",
          "name": "stdout",
          "text": [
            "Visualisation of KMedoids clusters\n"
          ]
        },
        {
          "output_type": "stream",
          "name": "stderr",
          "text": [
            "/usr/local/lib/python3.7/dist-packages/seaborn/_decorators.py:43: FutureWarning: Pass the following variables as keyword args: x, y. From version 0.12, the only valid positional argument will be `data`, and passing other arguments without an explicit keyword will result in an error or misinterpretation.\n",
            "  FutureWarning\n"
          ]
        },
        {
          "output_type": "display_data",
          "data": {
            "text/plain": [
              "<Figure size 432x288 with 1 Axes>"
            ],
            "image/png": "[encoded data removed]"
          },
          "metadata": {
            "needs_background": "light"
          }
        }
      ]
    },
    {
      "cell_type": "code",
      "source": [
        "#calculating Silhouette Coefficient of model for k=3\n",
        "print(\"Printing shilhouette score using KMeans\")\n",
        "print(metrics.silhouette_score(df_after_pca, kmeans_on_pca_data.labels_))\n",
        "\n",
        "#calculating Silhouette Coefficient of model for k=3\n",
        "print(\"Printing shilhouette score using KMedoids\")\n",
        "print(metrics.silhouette_score(df_after_pca, kmedoids_on_pca_data.labels_))"
      ],
      "metadata": {
        "colab": {
          "base_uri": "https://localhost:8080/"
        },
        "id": "XHxTSNBqW6bl",
        "outputId": "ae4ed2ef-5186-4415-92de-3dc81e81511f"
      },
      "execution_count": 213,
      "outputs": [
        {
          "output_type": "stream",
          "name": "stdout",
          "text": [
            "Printing shilhouette score using KMeans\n",
            "0.7794811747288485\n",
            "Printing shilhouette score using KMedoids\n",
            "0.6628757821417425\n"
          ]
        }
      ]
    },
    {
      "cell_type": "code",
      "source": [
        "print(\"Printing list of under_developing countries using KMeans\\n\")\n",
        "print(list(data_with_clusters[data_with_clusters['KMeans_Clusters']==1]['country']))\n",
        "print(\"\\nPrinting list of developed countries using KMeans\\n\")\n",
        "print(list(data_with_clusters[data_with_clusters['KMeans_Clusters']==0]['country']))\n",
        "print(\"\\nPrinting list of developing countries using KMeans\")\n",
        "print(list(data_with_clusters[data_with_clusters['KMeans_Clusters']==2]['country']))\n",
        "\n",
        "\n",
        "print(\"\\nPrinting list of under_developing countries using KMedoids\\n\")\n",
        "print(list(data_with_clusters[data_with_clusters['KMeans_Clusters']==1]['country']))\n",
        "print(\"\\nPrinting list of developed countries using KMedoids\\n\")\n",
        "print(list(data_with_clusters[data_with_clusters['KMeans_Clusters']==0]['country']))\n",
        "print(\"\\nPrinting list of developing countries using KMedoids\\n\")\n",
        "print(list(data_with_clusters[data_with_clusters['KMeans_Clusters']==2]['country']))"
      ],
      "metadata": {
        "colab": {
          "base_uri": "https://localhost:8080/"
        },
        "id": "WXuoybPQIFAP",
        "outputId": "2e108dce-fb66-4a80-b613-34eab9f80f34"
      },
      "execution_count": 214,
      "outputs": [
        {
          "output_type": "stream",
          "name": "stdout",
          "text": [
            "Printing list of under_developing countries using KMeans\n",
            "\n",
            "['Afghanistan', 'Angola', 'Benin', 'Burkina Faso', 'Burundi', 'Cameroon', 'Central African Republic', 'Chad', 'Comoros', 'Congo, Dem. Rep.', 'Congo, Rep.', \"Cote d'Ivoire\", 'Equatorial Guinea', 'Eritrea', 'Gabon', 'Gambia', 'Ghana', 'Guinea', 'Guinea-Bissau', 'Haiti', 'Iraq', 'Kenya', 'Kiribati', 'Lao', 'Lesotho', 'Liberia', 'Madagascar', 'Malawi', 'Mali', 'Mauritania', 'Mozambique', 'Namibia', 'Niger', 'Nigeria', 'Pakistan', 'Rwanda', 'Senegal', 'Sierra Leone', 'Solomon Islands', 'Sudan', 'Tanzania', 'Timor-Leste', 'Togo', 'Uganda', 'Yemen', 'Zambia']\n",
            "\n",
            "Printing list of developed countries using KMeans\n",
            "\n",
            "['Australia', 'Austria', 'Bahrain', 'Belgium', 'Brunei', 'Canada', 'Cyprus', 'Czech Republic', 'Denmark', 'Estonia', 'Finland', 'France', 'Germany', 'Greece', 'Hungary', 'Iceland', 'Ireland', 'Italy', 'Japan', 'Kuwait', 'Luxembourg', 'Malta', 'Netherlands', 'New Zealand', 'Norway', 'Portugal', 'Qatar', 'Seychelles', 'Singapore', 'Slovak Republic', 'Slovenia', 'South Korea', 'Spain', 'Sweden', 'Switzerland', 'United Arab Emirates', 'United Kingdom', 'United States']\n",
            "\n",
            "Printing list of developing countries using KMeans\n",
            "['Albania', 'Algeria', 'Antigua and Barbuda', 'Argentina', 'Armenia', 'Azerbaijan', 'Bahamas', 'Bangladesh', 'Barbados', 'Belarus', 'Belize', 'Bhutan', 'Bolivia', 'Bosnia and Herzegovina', 'Botswana', 'Brazil', 'Bulgaria', 'Cambodia', 'Cape Verde', 'Chile', 'China', 'Colombia', 'Costa Rica', 'Croatia', 'Dominican Republic', 'Ecuador', 'Egypt', 'El Salvador', 'Fiji', 'Georgia', 'Grenada', 'Guatemala', 'Guyana', 'India', 'Indonesia', 'Iran', 'Israel', 'Jamaica', 'Jordan', 'Kazakhstan', 'Kyrgyz Republic', 'Latvia', 'Lebanon', 'Libya', 'Lithuania', 'Macedonia, FYR', 'Malaysia', 'Maldives', 'Mauritius', 'Micronesia, Fed. Sts.', 'Moldova', 'Mongolia', 'Montenegro', 'Morocco', 'Myanmar', 'Nepal', 'Oman', 'Panama', 'Paraguay', 'Peru', 'Philippines', 'Poland', 'Romania', 'Russia', 'Samoa', 'Saudi Arabia', 'Serbia', 'South Africa', 'Sri Lanka', 'St. Vincent and the Grenadines', 'Suriname', 'Tajikistan', 'Thailand', 'Tonga', 'Tunisia', 'Turkey', 'Turkmenistan', 'Ukraine', 'Uruguay', 'Uzbekistan', 'Vanuatu', 'Venezuela', 'Vietnam']\n",
            "\n",
            "Printing list of under_developing countries using KMedoids\n",
            "\n",
            "['Afghanistan', 'Angola', 'Benin', 'Burkina Faso', 'Burundi', 'Cameroon', 'Central African Republic', 'Chad', 'Comoros', 'Congo, Dem. Rep.', 'Congo, Rep.', \"Cote d'Ivoire\", 'Equatorial Guinea', 'Eritrea', 'Gabon', 'Gambia', 'Ghana', 'Guinea', 'Guinea-Bissau', 'Haiti', 'Iraq', 'Kenya', 'Kiribati', 'Lao', 'Lesotho', 'Liberia', 'Madagascar', 'Malawi', 'Mali', 'Mauritania', 'Mozambique', 'Namibia', 'Niger', 'Nigeria', 'Pakistan', 'Rwanda', 'Senegal', 'Sierra Leone', 'Solomon Islands', 'Sudan', 'Tanzania', 'Timor-Leste', 'Togo', 'Uganda', 'Yemen', 'Zambia']\n",
            "\n",
            "Printing list of developed countries using KMedoids\n",
            "\n",
            "['Australia', 'Austria', 'Bahrain', 'Belgium', 'Brunei', 'Canada', 'Cyprus', 'Czech Republic', 'Denmark', 'Estonia', 'Finland', 'France', 'Germany', 'Greece', 'Hungary', 'Iceland', 'Ireland', 'Italy', 'Japan', 'Kuwait', 'Luxembourg', 'Malta', 'Netherlands', 'New Zealand', 'Norway', 'Portugal', 'Qatar', 'Seychelles', 'Singapore', 'Slovak Republic', 'Slovenia', 'South Korea', 'Spain', 'Sweden', 'Switzerland', 'United Arab Emirates', 'United Kingdom', 'United States']\n",
            "\n",
            "Printing list of developing countries using KMedoids\n",
            "\n",
            "['Albania', 'Algeria', 'Antigua and Barbuda', 'Argentina', 'Armenia', 'Azerbaijan', 'Bahamas', 'Bangladesh', 'Barbados', 'Belarus', 'Belize', 'Bhutan', 'Bolivia', 'Bosnia and Herzegovina', 'Botswana', 'Brazil', 'Bulgaria', 'Cambodia', 'Cape Verde', 'Chile', 'China', 'Colombia', 'Costa Rica', 'Croatia', 'Dominican Republic', 'Ecuador', 'Egypt', 'El Salvador', 'Fiji', 'Georgia', 'Grenada', 'Guatemala', 'Guyana', 'India', 'Indonesia', 'Iran', 'Israel', 'Jamaica', 'Jordan', 'Kazakhstan', 'Kyrgyz Republic', 'Latvia', 'Lebanon', 'Libya', 'Lithuania', 'Macedonia, FYR', 'Malaysia', 'Maldives', 'Mauritius', 'Micronesia, Fed. Sts.', 'Moldova', 'Mongolia', 'Montenegro', 'Morocco', 'Myanmar', 'Nepal', 'Oman', 'Panama', 'Paraguay', 'Peru', 'Philippines', 'Poland', 'Romania', 'Russia', 'Samoa', 'Saudi Arabia', 'Serbia', 'South Africa', 'Sri Lanka', 'St. Vincent and the Grenadines', 'Suriname', 'Tajikistan', 'Thailand', 'Tonga', 'Tunisia', 'Turkey', 'Turkmenistan', 'Ukraine', 'Uruguay', 'Uzbekistan', 'Vanuatu', 'Venezuela', 'Vietnam']\n"
          ]
        }
      ]
    },
    {
      "cell_type": "markdown",
      "source": [
        "# New Section"
      ],
      "metadata": {
        "id": "yeqfKyjPRowe"
      }
    }
  ]
}